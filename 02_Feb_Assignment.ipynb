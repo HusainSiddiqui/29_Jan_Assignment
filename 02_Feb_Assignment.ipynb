{
 "cells": [
  {
   "cell_type": "raw",
   "metadata": {},
   "source": [
    "Q1. Explain with an example each when to use a for loop and a while loop."
   ]
  },
  {
   "cell_type": "code",
   "execution_count": 1,
   "metadata": {},
   "outputs": [
    {
     "name": "stdout",
     "output_type": "stream",
     "text": [
      "For loop\n",
      "1\n",
      "2\n",
      "3\n",
      "4\n",
      "5\n",
      "6\n",
      "7\n",
      "8\n",
      "9\n",
      "10\n",
      "While loop\n",
      "1\n",
      "2\n",
      "3\n",
      "4\n",
      "5\n",
      "6\n",
      "7\n",
      "8\n",
      "9\n",
      "10\n"
     ]
    }
   ],
   "source": [
    "print('For loop')\n",
    "for i in range(1,11,1):# initilize,condition and increment\n",
    "    print(i)\n",
    "\n",
    "print('While loop')\n",
    "\n",
    "i=1 #initilize\n",
    "while(i<=10):#condition\n",
    "    print(i)\n",
    "    i+=1 #increment\n"
   ]
  },
  {
   "cell_type": "raw",
   "metadata": {},
   "source": [
    "Q2. Write a python program to print the sum and product of the first 10 natural numbers using for\n",
    "and while loop."
   ]
  },
  {
   "cell_type": "code",
   "execution_count": 2,
   "metadata": {},
   "outputs": [
    {
     "name": "stdout",
     "output_type": "stream",
     "text": [
      "sum of for loop 55\n",
      "sum of while loop 55\n"
     ]
    }
   ],
   "source": [
    "summ=0\n",
    "for i in range(1,11,1):\n",
    "    summ=summ+i\n",
    "print('sum of for loop',summ)\n",
    "\n",
    "summ=0\n",
    "i=1 #initilize\n",
    "while(i<=10):#condition\n",
    "    summ=summ+i\n",
    "    i+=1 #increment\n",
    "print('sum of while loop',summ)"
   ]
  },
  {
   "cell_type": "raw",
   "metadata": {},
   "source": [
    "Q3. Create a python program to compute the electricity bill for a household.\n",
    "\n",
    "The per-unit charges in rupees are as follows: \n",
    "For the first 100 units, the user will be charged Rs. 4.5 per unit,\n",
    "for the next 100 units, the user will be charged Rs. 6 per unit, \n",
    "and for the next 100 units, the user will be charged Rs. 10 per unit, \n",
    "After 300 units and above the user will be charged Rs. 20 per unit.\n",
    "\n",
    "You are required to take the units of electricity consumed in a month from the user as input.\n",
    "Your program must pass this test case: when the unit of electricity consumed by the user in a month is\n",
    "310, the total electricity bill should be 2250."
   ]
  },
  {
   "cell_type": "code",
   "execution_count": 3,
   "metadata": {},
   "outputs": [
    {
     "data": {
      "text/plain": [
       "2250.0"
      ]
     },
     "execution_count": 3,
     "metadata": {},
     "output_type": "execute_result"
    }
   ],
   "source": [
    "unit=310\n",
    "bill=0\n",
    "while unit>0:\n",
    "    \n",
    "    if unit>0:\n",
    "        if unit>100:\n",
    "            bill=bill+100*4.5\n",
    "        else:\n",
    "            bill=bill+unit*4.5\n",
    "        unit=unit-100\n",
    "\n",
    "        \n",
    "    if unit>0:\n",
    "        if unit>100:\n",
    "            bill=bill+100*6\n",
    "        else:\n",
    "            bill=bill+unit*6\n",
    "        unit=unit-100\n",
    "        \n",
    "    \n",
    "    if unit>0:\n",
    "        if unit>100:\n",
    "            bill=bill+100*10\n",
    "        else:\n",
    "            bill=bill+unit*10\n",
    "        unit=unit-100\n",
    "        \n",
    "            \n",
    "    if unit>0:\n",
    "        if unit>100:\n",
    "            bill=bill+100*20\n",
    "        else:\n",
    "            bill=bill+unit*20\n",
    "        unit=unit-100\n",
    "    \n",
    "    \n",
    "    \n",
    "bill"
   ]
  },
  {
   "cell_type": "raw",
   "metadata": {},
   "source": [
    "Q4. Create a list of numbers from 1 to 100. Use for loop and while loop to calculate the cube of each\n",
    "number and if the cube of that number is divisible by 4 or 5 then append that number in a list and print\n",
    "that list."
   ]
  },
  {
   "cell_type": "code",
   "execution_count": 4,
   "metadata": {},
   "outputs": [
    {
     "name": "stdout",
     "output_type": "stream",
     "text": [
      "[2, 4, 5, 6, 8, 10, 12, 14, 15, 16, 18, 20, 22, 24, 25, 26, 28, 30, 32, 34, 35, 36, 38, 40, 42, 44, 45, 46, 48, 50, 52, 54, 55, 56, 58, 60, 62, 64, 65, 66, 68, 70, 72, 74, 75, 76, 78, 80, 82, 84, 85, 86, 88, 90, 92, 94, 95, 96, 98, 100]\n"
     ]
    }
   ],
   "source": [
    "#Ans4.\n",
    "lst1=range(1,101)\n",
    "lst2=[]\n",
    "for i in lst1:\n",
    "    a=i**3\n",
    "    if a%4==0 or a%5==0:\n",
    "        lst2.append(i)\n",
    "        \n",
    "print(lst2)"
   ]
  },
  {
   "cell_type": "code",
   "execution_count": 7,
   "metadata": {},
   "outputs": [
    {
     "name": "stdout",
     "output_type": "stream",
     "text": [
      "[2, 4, 5, 6, 8, 10, 12, 14, 15, 16, 18, 20, 22, 24, 25, 26, 28, 30, 32, 34, 35, 36, 38, 40, 42, 44, 45, 46, 48, 50, 52, 54, 55, 56, 58, 60, 62, 64, 65, 66, 68, 70, 72, 74, 75, 76, 78, 80, 82, 84, 85, 86, 88, 90, 92, 94, 95, 96, 98, 100]\n"
     ]
    }
   ],
   "source": [
    "lst1=range(1,102)\n",
    "lst2=[]\n",
    "i=1\n",
    "while i!=len(lst1):\n",
    "    a=i**3\n",
    "    if a%4==0 or a%5==0:\n",
    "        lst2.append(i)\n",
    "    i=i+1\n",
    "print(lst2)"
   ]
  },
  {
   "cell_type": "raw",
   "metadata": {},
   "source": [
    "Q5. Write a program to filter count vowels in the below-given string.\n",
    "    string = \"I want to become a data scientist"
   ]
  },
  {
   "cell_type": "code",
   "execution_count": 6,
   "metadata": {
    "scrolled": true
   },
   "outputs": [
    {
     "data": {
      "text/plain": [
       "12"
      ]
     },
     "execution_count": 6,
     "metadata": {},
     "output_type": "execute_result"
    }
   ],
   "source": [
    "string = \"I want to become a data scientist\"\n",
    "\n",
    "vowel='aeiou'\n",
    "\n",
    "lam=lambda x: x if(x in vowel) else None\n",
    "\n",
    "len(list(filter(lam, string.lower())))"
   ]
  }
 ],
 "metadata": {
  "kernelspec": {
   "display_name": "Python 3",
   "language": "python",
   "name": "python3"
  },
  "language_info": {
   "codemirror_mode": {
    "name": "ipython",
    "version": 3
   },
   "file_extension": ".py",
   "mimetype": "text/x-python",
   "name": "python",
   "nbconvert_exporter": "python",
   "pygments_lexer": "ipython3",
   "version": "3.6.5"
  }
 },
 "nbformat": 4,
 "nbformat_minor": 2
}
