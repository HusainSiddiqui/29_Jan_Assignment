{
 "cells": [
  {
   "cell_type": "markdown",
   "metadata": {},
   "source": [
    "Q1. Who Developed Python programming Language\n",
    "\n",
    "Ans1. Python was created by Guido van Rossum, and first released on February 20, 1991."
   ]
  },
  {
   "cell_type": "markdown",
   "metadata": {},
   "source": [
    "Q2. Which Type of Programming does Python Support\n",
    "\n",
    "Ans2. Python support three programming paradigms: Procedure, Functional, and Object-Oriented.\n",
    "    \n",
    "    Procedure:\n",
    "        In Procedure programming set of commands can be grouped in a code block also called Procedure.\n",
    "        example:\n",
    "                def stringc(characters):\n",
    "                    string =''\n",
    "                    for char in characters:\n",
    "                        string=string+char\n",
    "                    return string\n",
    "    Functional:\n",
    "        The functional programming paradigm is a style of programming that involves using built-in higher-order functions.\n",
    "        A higher-order function takes other function as an argument or returns them as a result.\n",
    "        example:\n",
    "            import sklearn\n",
    "            import PIL\n",
    "            import cv2\n",
    "            \n",
    "    Object-Oriented\n",
    "        An object-oriented programming (OOP) paradigm is it makes the code reusable.\n",
    "        The blueprint in the case of OOP is called class.\n",
    "        example\n",
    "            class stringOps():\n",
    "                string=''\n",
    "                def __init__(self,characters):\n",
    "                    self.characters=characters\n",
    "\n",
    "                def strinconcat(self):\n",
    "                    for char in self.characters:\n",
    "                        stringOps.string=stringOps.string+char         "
   ]
  },
  {
   "cell_type": "markdown",
   "metadata": {},
   "source": [
    "Q3. Is Python Case Sensitive When Dealing with Identifier\n",
    "\n",
    "Ans3. Yes, Python is a case-sensitive language, i.e., it treats uppercase and lowercase characters differently. \n",
    "        This applies to identifiers too. \n",
    "        You must avoid using the same name with different cases while naming identifiers."
   ]
  },
  {
   "cell_type": "markdown",
   "metadata": {},
   "source": [
    "Q4. What Is The Correct Extension Of The Python File\n",
    "\n",
    "Ans4. The correct file extension for Python files is .py"
   ]
  },
  {
   "cell_type": "markdown",
   "metadata": {},
   "source": [
    "Q5.Is Python Code Compiled Or Interpreted ?\n",
    "\n",
    "Ans5.In python program first compiles the whole program internally, create bytes coded file (.pyc file) and \n",
    "     then run the bytes coded file via interpreter (PVM-Python Virtual Machine) in any machine like windows ,Mac,Linux"
   ]
  },
  {
   "cell_type": "markdown",
   "metadata": {},
   "source": [
    "Q6.Name A Few Block Of Code Used To Define In Python Language\n",
    "Ans6.\n",
    "\n",
    "In Python, there are several blocks of code used to define different structures, such as functions, classes, \n",
    "loops, and conditional statements. \n",
    "Here are a few of the most commonly used blocks in Python:\n",
    "\n",
    "Function definition: A function is a block of code that performs a specific task and can be reused throughout the program. \n",
    "Functions are defined using the def keyword followed by the function name and its parameters within parentheses. \n",
    "For example:\n",
    "\n",
    "def hello_world():\n",
    "    print(\"Hello, World!\")\n"
   ]
  },
  {
   "cell_type": "markdown",
   "metadata": {},
   "source": [
    "Q7. State a character used to give single-line-comments in Python?\n",
    "Ans7. Hash character(#) is used to comment the line in the Python program. "
   ]
  },
  {
   "cell_type": "markdown",
   "metadata": {},
   "source": [
    "Q8.Mention fuctions which can help us to find the version of python that we are currently working on?\n",
    "Ans8.\n",
    "import platform\n",
    "\n",
    "print(platform.python_version())"
   ]
  },
  {
   "cell_type": "markdown",
   "metadata": {},
   "source": [
    "Q9. Python supports the creation of anonymous functions at runtime using a construct called _ _ _ _ _ _ _\n",
    "\n",
    "Ans9. An anonymous function in Python is one that has no name when it is defined. \n",
    "In Python, the lambda keyword is used to define anonymous functions rather than the def keyword,\n",
    "which is used for normal functions. As a result, \n",
    "lambda functions are another name for anonymous functions."
   ]
  },
  {
   "cell_type": "markdown",
   "metadata": {},
   "source": [
    "Q10. What does PIP stand for Python?\n",
    "\n",
    "Ans10. PIP stand for Preferred Installer Program.\n",
    "        PIP is used to install and manage software packages written in Python"
   ]
  },
  {
   "cell_type": "markdown",
   "metadata": {},
   "source": [
    "Q11. Mention A Few Built In Function In Python\n",
    "\n",
    "Ans11.\n",
    "        print( ) function.\n",
    "        type( ) function.\n",
    "        input( ) function."
   ]
  },
  {
   "cell_type": "markdown",
   "metadata": {},
   "source": [
    "Q12. What Is The Maximum Length Of A Python Identifier\n",
    "\n",
    "Ans12.The Maximum Length Of A Python Identifier 79 characters\n"
   ]
  },
  {
   "cell_type": "markdown",
   "metadata": {},
   "source": [
    "Q13. What are the benefits of using Python\n",
    "\n",
    "Ans13.\n",
    "Python programming is a general-purpose skill used in almost all fields, including: \n",
    "\n",
    "    Data science\n",
    "    Scientific and mathematical computing\n",
    "    Web development\n",
    "    Finance and trading\n",
    "    System automation and administration\n",
    "    Computer graphics\n",
    "    Basic game development"
   ]
  },
  {
   "cell_type": "markdown",
   "metadata": {},
   "source": [
    "Q14. How is memory managed in Python\n",
    "Ans14. "
   ]
  },
  {
   "cell_type": "markdown",
   "metadata": {},
   "source": [
    "Q15. How To Install Python On Windows And Set Path Variable\n",
    "Ans15. \n",
    "Install Python On Windows\n",
    "1. Open a browser to the Python website and download the Windows installer. \n",
    "2. Double click on the downloaded file and install Python for all users, \n",
    "3. ensure that Python is added to your path. Click on Install now to begin\n",
    "\n",
    "Set Path Variable/Update the PATH Environment Variable (Microsoft Windows)\n",
    "1.Select Start, select Control Panel. double click System, and select the Advanced tab.\n",
    "2.Click Environment Variables.\n",
    "3.In the Edit System Variable (or New System Variable) window, specify the value of the PATH environment variable."
   ]
  },
  {
   "cell_type": "markdown",
   "metadata": {},
   "source": [
    "Q16. Is Indentation Required In Python\n",
    "Ans16. Python uses indentation to indicate a block of code."
   ]
  }
 ],
 "metadata": {
  "kernelspec": {
   "display_name": "Python 3",
   "language": "python",
   "name": "python3"
  },
  "language_info": {
   "codemirror_mode": {
    "name": "ipython",
    "version": 3
   },
   "file_extension": ".py",
   "mimetype": "text/x-python",
   "name": "python",
   "nbconvert_exporter": "python",
   "pygments_lexer": "ipython3",
   "version": "3.6.5"
  }
 },
 "nbformat": 4,
 "nbformat_minor": 2
}
