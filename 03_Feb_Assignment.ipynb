{
 "cells": [
  {
   "cell_type": "raw",
   "metadata": {},
   "source": [
    "Q1. Which keyword is used to create a function? Create a function to return a list of odd numbers in the\n",
    "    range of 1 to 25\n",
    "\n",
    "Ans1. def keyword are use to create a function"
   ]
  },
  {
   "cell_type": "code",
   "execution_count": 5,
   "metadata": {},
   "outputs": [
    {
     "name": "stdout",
     "output_type": "stream",
     "text": [
      "odd number list: [1, 3, 9, 9, 33]\n"
     ]
    }
   ],
   "source": [
    "\n",
    "def odd_function(lst):\n",
    "    l2=[]\n",
    "    for i in lst:\n",
    "        if i%2!=0:\n",
    "            l2.append(i)\n",
    "    return l2\n",
    "\n",
    "l=[1,2,3,4,9,4,9,33,44,68,90]\n",
    "print('odd number list:',odd_function(l))"
   ]
  },
  {
   "cell_type": "raw",
   "metadata": {},
   "source": [
    "Q2. Why *args and **kwargs is used in some functions? Create a function each for *args and **kwargs\n",
    "    to demonstrate their use."
   ]
  },
  {
   "cell_type": "raw",
   "metadata": {},
   "source": [
    "Ans2. In Python, we can pass a any number of arguments to a function using special symbols. \n",
    "      There are two special symbols:\n",
    "        1. *args (Non Keyword Arguments)\n",
    "        Python has *args which allow us to pass the variable number of non keyword arguments to function.\n",
    "    \n",
    "        2. **kwargs (Keyword Arguments)\n",
    "        **kwargs, it allows us to pass the any length of keyword arguments to the function."
   ]
  },
  {
   "cell_type": "code",
   "execution_count": 7,
   "metadata": {},
   "outputs": [
    {
     "name": "stdout",
     "output_type": "stream",
     "text": [
      "Sum: 8\n",
      "Sum: 22\n",
      "Sum: 17\n"
     ]
    }
   ],
   "source": [
    "def adder(*num):\n",
    "    sum = 0\n",
    "    \n",
    "    for n in num:\n",
    "        sum = sum + n\n",
    "\n",
    "    print(\"Sum:\",sum)\n",
    "\n",
    "adder(3,5)\n",
    "adder(4,5,6,7)\n",
    "adder(1,2,3,5,6)"
   ]
  },
  {
   "cell_type": "code",
   "execution_count": 8,
   "metadata": {},
   "outputs": [
    {
     "name": "stdout",
     "output_type": "stream",
     "text": [
      "\n",
      "Data type of argument: <class 'dict'>\n",
      "Firstname is Sita\n",
      "Lastname is Sharma\n",
      "Age is 22\n",
      "Phone is 1234567890\n",
      "\n",
      "Data type of argument: <class 'dict'>\n",
      "Firstname is John\n",
      "Lastname is Wood\n",
      "Email is johnwood@nomail.com\n",
      "Country is Wakanda\n",
      "Age is 25\n",
      "Phone is 9876543210\n"
     ]
    }
   ],
   "source": [
    "def intro(**data):\n",
    "    print(\"\\nData type of argument:\",type(data))\n",
    "\n",
    "    for key, value in data.items():\n",
    "        print(\"{} is {}\".format(key,value))\n",
    "\n",
    "intro(Firstname=\"Sita\", Lastname=\"Sharma\", Age=22, Phone=1234567890)\n",
    "intro(Firstname=\"John\", Lastname=\"Wood\", Email=\"johnwood@nomail.com\", Country=\"Wakanda\", Age=25, Phone=9876543210)"
   ]
  },
  {
   "cell_type": "code",
   "execution_count": null,
   "metadata": {},
   "outputs": [],
   "source": [
    "Q3. What is an iterator in python? Name the method used to initialise the iterator object and the method\n",
    "    used for iteration. \n",
    "    Use these methods to print the first five elements of the given list [2, 4, 6, 8, 10, 12, 14,16, 18, 20].\n",
    "\n",
    "Ans3.\n",
    "    An iterator is an object that can be iterated upon, meaning that you can traverse through all the values.\n",
    "    which consist of the methods iter() and next() ."
   ]
  },
  {
   "cell_type": "code",
   "execution_count": 13,
   "metadata": {},
   "outputs": [
    {
     "name": "stdout",
     "output_type": "stream",
     "text": [
      "2\n",
      "4\n",
      "6\n",
      "8\n",
      "10\n"
     ]
    }
   ],
   "source": [
    "lst= [2, 4, 6, 8, 10, 12, 14,16, 18, 20]\n",
    "itr=iter(lst)\n",
    "for i in range(5):\n",
    "    print(next(itr))"
   ]
  },
  {
   "cell_type": "raw",
   "metadata": {},
   "source": [
    "Q4. What is a generator function in python? Why yield keyword is used? Give an example of a generator\n",
    "    function.\n",
    "\n",
    "Ans4.\n",
    "    Python Generator functions allow you to declare a function that behaves likes an iterator.\n",
    "    \n",
    "    The Yield keyword in Python is similar to a return statement used for returning values or objects in Python.\n",
    "    However, there is a slight difference. The yield statement returns a generator object to the one \n",
    "    who calls the function which contains yield,instead of simply returning a value. "
   ]
  },
  {
   "cell_type": "code",
   "execution_count": 21,
   "metadata": {},
   "outputs": [
    {
     "name": "stdout",
     "output_type": "stream",
     "text": [
      "3\n",
      "5\n",
      "7 \n",
      "\n",
      "<class 'generator'>\n",
      "0\n",
      "1\n",
      "2\n",
      "3\n",
      "4\n",
      "5\n",
      "6\n",
      "7\n",
      "8\n",
      "9\n"
     ]
    }
   ],
   "source": [
    "def get_odds_generator():\n",
    "    n=1\n",
    "    \n",
    "    n+=2\n",
    "    yield n\n",
    "    \n",
    "    n+=2\n",
    "    yield n \n",
    "    \n",
    "    n+=2\n",
    "    yield n\n",
    "    \n",
    "numbers=get_odds_generator()\n",
    "print(next(numbers))\n",
    "print(next(numbers))\n",
    "print(next(numbers),'\\n')\n",
    "\n",
    "def n_number():\n",
    "    for i in range(10):\n",
    "        yield i\n",
    "        \n",
    "num=n_number()\n",
    "print(type(num))\n",
    "for i in range(10):\n",
    "    print(next(num)) "
   ]
  },
  {
   "cell_type": "code",
   "execution_count": null,
   "metadata": {},
   "outputs": [],
   "source": [
    "Q5. Create a generator function for prime numbers less than 1000. Use the next() method to print the\n",
    "    first 20 prime numbers."
   ]
  },
  {
   "cell_type": "code",
   "execution_count": 178,
   "metadata": {},
   "outputs": [],
   "source": [
    "def prime_number(n):\n",
    "    p='prime'\n",
    "    \n",
    "    for i in range(2,int(n/2)+1):\n",
    "        if n%i==0 :\n",
    "            p='Not prime'\n",
    "    return p\n"
   ]
  },
  {
   "cell_type": "code",
   "execution_count": 179,
   "metadata": {},
   "outputs": [
    {
     "name": "stdout",
     "output_type": "stream",
     "text": [
      "<class 'generator'>\n",
      "2\n",
      "3\n",
      "5\n",
      "7\n",
      "11\n",
      "13\n",
      "17\n",
      "19\n",
      "23\n",
      "29\n"
     ]
    }
   ],
   "source": [
    "def prime_number_yield():\n",
    "    \n",
    "    for n in range(2,1000):\n",
    "        prime=prime_number(n)\n",
    "        if 'prime'==prime:\n",
    "            yield n\n",
    "    \n",
    "\n",
    "prime=prime_number_yield()\n",
    "\n",
    "print(type(prime))\n",
    "for i in range(10):\n",
    "    print(next(prime)) \n",
    "#print(prime)"
   ]
  },
  {
   "cell_type": "raw",
   "metadata": {},
   "source": [
    "Q6. Write a python program to print the first 10 Fibonacci numbers using a while loop."
   ]
  },
  {
   "cell_type": "code",
   "execution_count": 182,
   "metadata": {},
   "outputs": [
    {
     "name": "stdout",
     "output_type": "stream",
     "text": [
      "1\n",
      "2\n",
      "3\n",
      "5\n",
      "8\n",
      "13\n",
      "21\n",
      "34\n",
      "55\n",
      "89\n"
     ]
    }
   ],
   "source": [
    "n=1\n",
    "x,y=0,1\n",
    "while n<=10:\n",
    "    z=x+y\n",
    "    print(z)\n",
    "    x=y\n",
    "    y=z\n",
    "    n=n+1\n",
    "    "
   ]
  },
  {
   "cell_type": "raw",
   "metadata": {},
   "source": [
    "Q7. Write a List Comprehension to iterate through the given string: ‘pwskills’.\n",
    "\n",
    "    Expected output: ['p', 'w', 's', 'k', 'i', 'l', 'l', 's']"
   ]
  },
  {
   "cell_type": "code",
   "execution_count": 185,
   "metadata": {},
   "outputs": [
    {
     "data": {
      "text/plain": [
       "['p', 'w', 's', 'k', 'i', 'l', 'l', 's']"
      ]
     },
     "execution_count": 185,
     "metadata": {},
     "output_type": "execute_result"
    }
   ],
   "source": [
    "string='pwskills'\n",
    "list(filter(lambda x:x ,string))"
   ]
  },
  {
   "cell_type": "raw",
   "metadata": {},
   "source": [
    "Q8. Write a python program to check whether a given number is Palindrome or not using a while loop"
   ]
  },
  {
   "cell_type": "code",
   "execution_count": 232,
   "metadata": {},
   "outputs": [
    {
     "name": "stdout",
     "output_type": "stream",
     "text": [
      "Enter number:1000001\n",
      "Palindrome\n"
     ]
    }
   ],
   "source": [
    "num=input('Enter number:')\n",
    "n=0\n",
    "m=-1\n",
    "check=0\n",
    "while len(num)!=n:\n",
    "    \n",
    "    if num[n]==num[m]:\n",
    "        check=1\n",
    "    else:\n",
    "        check=0\n",
    "        break\n",
    "\n",
    "    m=m-1\n",
    "    n=n+1\n",
    "\n",
    "if check==0:\n",
    "    print('\\nNot Palindrome')\n",
    "else:\n",
    "    print('Palindrome')\n"
   ]
  },
  {
   "cell_type": "raw",
   "metadata": {},
   "source": [
    "Q9. Write a code to print odd numbers from 1 to 100 using list comprehension.\n",
    "\n",
    "    Note: Use a list comprehension to create a list from 1 to 100 and use another List comprehension to filter\n",
    "    out odd numbers."
   ]
  },
  {
   "cell_type": "code",
   "execution_count": 243,
   "metadata": {},
   "outputs": [
    {
     "name": "stdout",
     "output_type": "stream",
     "text": [
      "1 3 5 7 9 11 13 15 17 19 21 23 25 27 29 31 33 35 37 39 41 43 45 47 49 51 53 55 57 59 61 63 65 67 69 71 73 75 77 79 81 83 85 87 89 91 93 95 97 99\n"
     ]
    }
   ],
   "source": [
    "print(*(filter(lambda x:x%2!=0, range(1,101))))"
   ]
  },
  {
   "cell_type": "code",
   "execution_count": null,
   "metadata": {
    "scrolled": true
   },
   "outputs": [],
   "source": []
  },
  {
   "cell_type": "code",
   "execution_count": null,
   "metadata": {},
   "outputs": [],
   "source": []
  },
  {
   "cell_type": "code",
   "execution_count": null,
   "metadata": {},
   "outputs": [],
   "source": []
  }
 ],
 "metadata": {
  "kernelspec": {
   "display_name": "Python 3",
   "language": "python",
   "name": "python3"
  },
  "language_info": {
   "codemirror_mode": {
    "name": "ipython",
    "version": 3
   },
   "file_extension": ".py",
   "mimetype": "text/x-python",
   "name": "python",
   "nbconvert_exporter": "python",
   "pygments_lexer": "ipython3",
   "version": "3.6.5"
  }
 },
 "nbformat": 4,
 "nbformat_minor": 2
}
