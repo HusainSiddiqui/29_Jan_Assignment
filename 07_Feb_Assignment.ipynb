{
 "cells": [
  {
   "cell_type": "raw",
   "metadata": {},
   "source": [
    "Q1. You are writing code for a company. The requirement of the company is that you create a python\n",
    "function that will check whether the password entered by the user is correct or not. The function should\n",
    "take the password as input and return the string “Valid Password” if the entered password follows the\n",
    "below-given password guidelines else it should return “Invalid Password”.\n",
    "\n",
    "Note: \n",
    "1. The Password should contain at least two uppercase letters and at least two lowercase letters.\n",
    "2. The Password should contain at least a number and three special characters.\n",
    "3. The length of the password should be 10 characters long."
   ]
  },
  {
   "cell_type": "code",
   "execution_count": 22,
   "metadata": {},
   "outputs": [
    {
     "name": "stdout",
     "output_type": "stream",
     "text": [
      "Enter Password:!@#1SHshah\n",
      "2 4 1 3\n",
      "Valid Password\n"
     ]
    }
   ],
   "source": [
    "#Ans1.\n",
    "Password=input('Enter Password:')\n",
    "def password_checker(Password):\n",
    "    u,l,d,s=0,0,0,0\n",
    "    if len(Password)<10 or len(Password)>10:\n",
    "        return 'Invalid Password'\n",
    "    else:\n",
    "        for i in Password:\n",
    "            if i.isupper():\n",
    "                u+=1\n",
    "            elif i.islower():\n",
    "                l+=1\n",
    "            elif i.isdigit():\n",
    "                d+=1\n",
    "            else:\n",
    "                s+=1\n",
    "                \n",
    "    print(u,l,d,s)\n",
    "\n",
    "    if u<2 or l<2:\n",
    "        return 'Invalid Password'\n",
    "    if d<1:\n",
    "        return 'Invalid Password'\n",
    "    if s<3:\n",
    "        return 'Invalid Password'\n",
    "    \n",
    "    return 'Valid Password'\n",
    "\n",
    "p=password_checker(Password)\n",
    "if p=='Invalid Password':\n",
    "    print('Invalid Password')\n",
    "else:\n",
    "    print('Valid Password')"
   ]
  },
  {
   "cell_type": "code",
   "execution_count": null,
   "metadata": {},
   "outputs": [],
   "source": [
    "Q2. Solve the below-given questions using at least one of the following:\n",
    "    1. Lambda function\n",
    "    2. Filter function\n",
    "    3. Zap function\n",
    "    4. List Comprehension\n",
    "\n",
    "    1.Check if the string starts with a particular letter\n",
    "    2.Check if the string is numeric\n",
    "    3.Sort a list of tuples having fruit names and their quantity. [(\"mango\",99),(\"orange\",80), (\"grapes\", 1000)]\n",
    "    4.Find the squares of numbers from 1 to 10\n",
    "    5.Find the cube root of numbers from 1 to 10\n",
    "    6.Check if a given number is even\n",
    "    7.Filter odd numbers from the given list.[1,2,3,4,5,6,7,8,9,10]\n",
    "    8.Sort a list of integers into positive and negative integers lists.[1,2,3,4,5,6,-1,-2,-3,-4,-5,0]"
   ]
  },
  {
   "cell_type": "code",
   "execution_count": 25,
   "metadata": {},
   "outputs": [
    {
     "name": "stdout",
     "output_type": "stream",
     "text": [
      "Enter String:shah\n",
      "String start with:s\n"
     ]
    }
   ],
   "source": [
    "#Ans1.\n",
    "pt=input(\"Enter String:\")\n",
    "check='s'\n",
    "if pt[0]==check:\n",
    "    print('String start with:s')\n",
    "else:\n",
    "    print('String not start with:s')"
   ]
  },
  {
   "cell_type": "code",
   "execution_count": 29,
   "metadata": {},
   "outputs": [
    {
     "name": "stdout",
     "output_type": "stream",
     "text": [
      "Enter String:1\n",
      "True\n"
     ]
    }
   ],
   "source": [
    "#Ans2.\n",
    "pt=input(\"Enter String:\")\n",
    "print(pt.isalnum())"
   ]
  },
  {
   "cell_type": "code",
   "execution_count": 32,
   "metadata": {},
   "outputs": [
    {
     "data": {
      "text/plain": [
       "[('orange', 80), ('mango', 99), ('grapes', 1000)]"
      ]
     },
     "execution_count": 32,
     "metadata": {},
     "output_type": "execute_result"
    }
   ],
   "source": [
    "#Ans3.\n",
    "fruit=[(\"mango\",99),(\"orange\",80), (\"grapes\", 1000)]\n",
    "sorted(fruit,key=lambda x:x[1])"
   ]
  },
  {
   "cell_type": "code",
   "execution_count": 34,
   "metadata": {},
   "outputs": [
    {
     "data": {
      "text/plain": [
       "[1, 4, 9, 16, 25, 36, 49, 64, 81, 100]"
      ]
     },
     "execution_count": 34,
     "metadata": {},
     "output_type": "execute_result"
    }
   ],
   "source": [
    "#Ans4.\n",
    "list(map(lambda x:x**2,range(1,11)))"
   ]
  },
  {
   "cell_type": "code",
   "execution_count": 35,
   "metadata": {},
   "outputs": [
    {
     "data": {
      "text/plain": [
       "[1, 8, 27, 64, 125, 216, 343, 512, 729, 1000]"
      ]
     },
     "execution_count": 35,
     "metadata": {},
     "output_type": "execute_result"
    }
   ],
   "source": [
    "#Ans5.\n",
    "list(map(lambda x:x**3,range(1,11)))"
   ]
  },
  {
   "cell_type": "code",
   "execution_count": 56,
   "metadata": {},
   "outputs": [
    {
     "data": {
      "text/plain": [
       "'Even'"
      ]
     },
     "execution_count": 56,
     "metadata": {},
     "output_type": "execute_result"
    }
   ],
   "source": [
    "#Ans6.\n",
    "a=lambda x:'Even' if x%2==0 else 'Odd'\n",
    "a(4)"
   ]
  },
  {
   "cell_type": "code",
   "execution_count": 60,
   "metadata": {},
   "outputs": [
    {
     "data": {
      "text/plain": [
       "[1, 3, 5, 7, 9]"
      ]
     },
     "execution_count": 60,
     "metadata": {},
     "output_type": "execute_result"
    }
   ],
   "source": [
    "#Ans7.\n",
    "list(filter(lambda x:x%2!=0 ,range(1,11)))"
   ]
  },
  {
   "cell_type": "code",
   "execution_count": 76,
   "metadata": {},
   "outputs": [
    {
     "data": {
      "text/plain": [
       "[1, 2, 3, 4, 5, 6, 0, -1, -2, -3, -4, -5]"
      ]
     },
     "execution_count": 76,
     "metadata": {},
     "output_type": "execute_result"
    }
   ],
   "source": [
    "#Ans8.\n",
    "lst=[1,2,3,4,5,6,-1,-2,-3,-4,-5,0]\n",
    "sorted(lst,key=lambda x:x<0)"
   ]
  },
  {
   "cell_type": "code",
   "execution_count": null,
   "metadata": {},
   "outputs": [],
   "source": []
  }
 ],
 "metadata": {
  "kernelspec": {
   "display_name": "Python 3",
   "language": "python",
   "name": "python3"
  },
  "language_info": {
   "codemirror_mode": {
    "name": "ipython",
    "version": 3
   },
   "file_extension": ".py",
   "mimetype": "text/x-python",
   "name": "python",
   "nbconvert_exporter": "python",
   "pygments_lexer": "ipython3",
   "version": "3.6.5"
  }
 },
 "nbformat": 4,
 "nbformat_minor": 2
}
