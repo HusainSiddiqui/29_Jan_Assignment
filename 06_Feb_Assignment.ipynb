{
 "cells": [
  {
   "cell_type": "raw",
   "metadata": {},
   "source": [
    "Q1. Create a function which will take a list as an argument and return the product of all the numbers\n",
    "after creating a flat list.\n",
    "\n",
    "Use the below-given list as an argument for your function.\n",
    "list1 = [1,2,3,4, [44,55,66, True], False, (34,56,78,89,34), {1,2,3,3,2,1}, {1:34, \"key2\": [55, 67, 78, 89], 4: (45,\n",
    "22, 61, 34)}, [56, 'data science'], 'Machine Learning']\n",
    "\n",
    "Note: you must extract numeric keys and values of the dictionary also."
   ]
  },
  {
   "cell_type": "code",
   "execution_count": 9,
   "metadata": {},
   "outputs": [
    {
     "name": "stdout",
     "output_type": "stream",
     "text": [
      "[1, 2, 3, 4, 44, 55, 66, True, False, 34, 56, 78, 89, 34, 1, 2, 3, 1, 34, 55, 67, 78, 89, 4, 45, 22, 61, 34, 56]\n"
     ]
    }
   ],
   "source": [
    "#Ans1.\n",
    "\n",
    "def flat_list(lst1):\n",
    "    lst2=[]\n",
    "    \n",
    "    for i in lst1:\n",
    "\n",
    "        if type(i)==int or type(i)==bool or type(i)==float:\n",
    "\n",
    "            lst2.append(i)\n",
    "        elif type(i)==list or type(i)==tuple or type(i)==set:\n",
    "  \n",
    "            for j in i:\n",
    "                lst2.append(j)\n",
    "        elif type(i)==dict:\n",
    "\n",
    "            for k,v in i.items():\n",
    "\n",
    "                lst2.append(k)\n",
    "                lst2.append(v)\n",
    "             \n",
    "                    \n",
    "    return lst2\n",
    "\n",
    "list1 = [1,2,3,4, [44,55,66, True], False, (34,56,78,89,34), {1,2,3,3,2,1}, {1:34, \"key2\": [55, 67, 78, 89], 4: (45,\n",
    "22, 61, 34)}, [56, 'data science'], 'Machine Learning']\n",
    "\n",
    "l1=flat_list(list1)   \n",
    "l2=flat_list(l1)  \n",
    "print(l2)"
   ]
  },
  {
   "cell_type": "code",
   "execution_count": null,
   "metadata": {},
   "outputs": [],
   "source": [
    "Q2. Write a python program for encrypting a message sent to you by your friend. The logic of encryption\n",
    "    should be such that, for a the output should be z. For b, the output should be y. For c, the output should\n",
    "    be x respectively. Also, the whitespace should be replaced with a dollar sign. Keep the punctuation\n",
    "    marks unchanged.\n",
    "\n",
    "    Input Sentence: I want to become a Data Scientist.\n",
    "\n",
    "    Encrypt the above input sentence using the program you just created.\n",
    "\n",
    "    Note: Convert the given input sentence into lowercase before encrypting. The final output should be\n",
    "    lowercase."
   ]
  },
  {
   "cell_type": "code",
   "execution_count": 1,
   "metadata": {},
   "outputs": [
    {
     "name": "stdout",
     "output_type": "stream",
     "text": [
      "I- i --> r\n",
      " $\n",
      "w- w --> d\n",
      "a- a --> z\n",
      "n- n --> m\n",
      "t- t --> g\n",
      " $\n",
      "t- t --> g\n",
      "o- o --> l\n",
      " $\n",
      "b- b --> y\n",
      "e- e --> v\n",
      "c- c --> x\n",
      "o- o --> l\n",
      "m- m --> n\n",
      "e- e --> v\n",
      " $\n",
      "a- a --> z\n",
      " $\n",
      "D- d --> w\n",
      "a- a --> z\n",
      "t- t --> g\n",
      "a- a --> z\n",
      " $\n",
      "S- s --> h\n",
      "c- c --> x\n",
      "i- i --> r\n",
      "e- e --> v\n",
      "n- n --> m\n",
      "t- t --> g\n",
      "i- i --> r\n",
      "s- s --> h\n",
      "t- t --> g\n"
     ]
    },
    {
     "data": {
      "text/plain": [
       "'r$dzmg$gl$yvxlnv$z$wzgz$hxrvmgrhg'"
      ]
     },
     "execution_count": 1,
     "metadata": {},
     "output_type": "execute_result"
    }
   ],
   "source": [
    "s='I want to become a Data Scientist'\n",
    "\n",
    "strr=''\n",
    "for i in range(len(s)):\n",
    "    \n",
    "    x=ord(s[i])          #ord() char to number (ASCII)\n",
    "    print(chr(x),end='') #chr() number to char (ASCII)\n",
    "    \n",
    "    if x==32:\n",
    "        print('$')\n",
    "        strr=strr+'$'\n",
    "    elif x>=65 and x<=90:\n",
    "        x=x+32    #convert capital to small\n",
    "        y=97\n",
    "        z=-(x-y)\n",
    "        w=y+z+25\n",
    "        print('-',chr(x),'-->',chr(w))\n",
    "        strr=strr+chr(w)\n",
    "    elif x>=97 and x<=122:\n",
    "        y=97\n",
    "        z=-(x-y)\n",
    "        w=y+z+25\n",
    "        print('-',chr(x),'-->',chr(w))\n",
    "        strr=strr+chr(w)\n",
    "        \n",
    "strr        "
   ]
  },
  {
   "cell_type": "code",
   "execution_count": null,
   "metadata": {},
   "outputs": [],
   "source": []
  },
  {
   "cell_type": "code",
   "execution_count": 182,
   "metadata": {},
   "outputs": [],
   "source": []
  },
  {
   "cell_type": "code",
   "execution_count": 178,
   "metadata": {},
   "outputs": [],
   "source": []
  },
  {
   "cell_type": "code",
   "execution_count": null,
   "metadata": {},
   "outputs": [],
   "source": []
  },
  {
   "cell_type": "code",
   "execution_count": null,
   "metadata": {},
   "outputs": [],
   "source": []
  },
  {
   "cell_type": "code",
   "execution_count": null,
   "metadata": {},
   "outputs": [],
   "source": []
  },
  {
   "cell_type": "code",
   "execution_count": 40,
   "metadata": {},
   "outputs": [],
   "source": []
  },
  {
   "cell_type": "code",
   "execution_count": 41,
   "metadata": {},
   "outputs": [],
   "source": []
  },
  {
   "cell_type": "code",
   "execution_count": null,
   "metadata": {},
   "outputs": [],
   "source": []
  },
  {
   "cell_type": "code",
   "execution_count": null,
   "metadata": {},
   "outputs": [],
   "source": []
  }
 ],
 "metadata": {
  "kernelspec": {
   "display_name": "Python 3",
   "language": "python",
   "name": "python3"
  },
  "language_info": {
   "codemirror_mode": {
    "name": "ipython",
    "version": 3
   },
   "file_extension": ".py",
   "mimetype": "text/x-python",
   "name": "python",
   "nbconvert_exporter": "python",
   "pygments_lexer": "ipython3",
   "version": "3.6.5"
  }
 },
 "nbformat": 4,
 "nbformat_minor": 2
}
